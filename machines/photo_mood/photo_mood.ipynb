{
 "cells": [
  {
   "cell_type": "markdown",
   "metadata": {},
   "source": [
    "# Photo to Mood\n",
    "\n",
    "画像データについて、GracenoteのどのMoodに相当するかを判断するModelを作成します\n"
   ]
  },
  {
   "cell_type": "code",
   "execution_count": 1,
   "metadata": {
    "collapsed": false
   },
   "outputs": [],
   "source": [
    "# グラフが文章中に表示されるようにするおまじない\n",
    "%matplotlib inline\n",
    "\n",
    "# autoreload module\n",
    "%load_ext autoreload\n",
    "%autoreload 2\n",
    "\n",
    "# load local package\n",
    "import sys\n",
    "import os\n",
    "current_path = os.getcwd()\n",
    "sys.path.append(os.path.join(current_path, \"../../\"))  # load project root\n"
   ]
  },
  {
   "cell_type": "markdown",
   "metadata": {},
   "source": [
    "## Load the Data"
   ]
  },
  {
   "cell_type": "markdown",
   "metadata": {},
   "source": [
    "image_url、moodを左端に設定したファイルから学習データを読み込みます。\n",
    "なお、今回値はRekognitionのスコアであり、全項目同じ範囲の値のため正規化は行いません。"
   ]
  },
  {
   "cell_type": "code",
   "execution_count": 2,
   "metadata": {
    "collapsed": false
   },
   "outputs": [
    {
     "name": "stdout",
     "output_type": "stream",
     "text": [
      "['alcohol', 'aluminium', 'animal', 'apartment_building', 'art', 'auto', 'baby', 'ball', 'balloon', 'banister', 'beach', 'bean_sprout', 'bed', 'bedroom', 'beverage', 'bicycle', 'bike', 'binder', 'bird_feeder', 'black_hair', 'blanket', 'blossom', 'bobsled', 'bonfire', 'bowl', 'building', 'bulb', 'bulldog', 'bus', 'cable_car', 'campfire', 'camping', 'canopy', 'car', 'car_seat', 'cardboard', 'cash_machine', 'child', 'citrus', 'clothing', 'cloud', 'coast', 'coast_guard', 'coat_rack', 'coca', 'cockpit', 'coconut', 'coffee_cup', 'coffee_table', 'collage', 'collection', 'concrete', 'condo', 'cone', 'coral_reef', 'corner', 'crash_helmet', 'crowd', 'cumulus', 'cup', 'curtain', 'daisy', 'dance', 'dark_hair', 'deck', 'desk', 'diary', 'diner', 'dinner', 'ditch', 'dog', 'drain', 'drink', 'drinking', 'eating', 'emblem', 'enclosure', 'face', 'factory', 'female', 'field', 'figurine', 'fire', 'firework', 'fitness', 'flare', 'flower', 'food', 'football', 'footwear', 'forest', 'fountain', 'freeway', 'fruit', 'furniture', 'game', 'garden', 'gazebo', 'girl', 'glass', 'golden_retriever', 'grass', 'grassland', 'gravel', 'hair', 'handrail', 'hang_out', 'hardhat', 'heel', 'high_rise', 'housing', 'inflatable', 'interior_design', 'intersection', 'jaguar_car', 'jungle', 'keyboard', 'land', 'leisure_activities', 'light', 'light_fixture', 'lighting', 'logo', 'machine', 'mammal', 'market', 'marsh', 'meal', 'miniskirt', 'model', 'mosquito_net', 'motor', 'motor_scooter', 'motorcycle', 'night', 'ocean', 'outdoors', 'palm_tree', 'panties', 'path', 'patio', 'pedestrian', 'people', 'person', 'plant', 'playground', 'plush', 'porch', 'projector', 'quilt', 'reception', 'refinery', 'restaurant', 'river', 'road', 'robot', 'roof', 'sea', 'seasoning', 'sesame', 'shack', 'shelter', 'shirt', 'shoe', 'sidewalk', 'skirt', 'sky', 'sled', 'soccer', 'soda', 'solar_panels', 'sprout', 'sunset', 'symbol', 'table', 'teddy_bear', 'tent', 'tile_roof', 'towel', 'train', 'tree', 'trolley', 'underwear', 'vehicle', 'walkway', 'water', 'wine', 'wood', 'work_out', 'worker', 'yard']\n",
      "(98, 191)\n",
      "(98,)\n"
     ]
    },
    {
     "name": "stderr",
     "output_type": "stream",
     "text": [
      "D:\\Develop\\env\\Python\\Miniconda3\\envs\\onpasha\\lib\\site-packages\\numpy\\lib\\npyio.py:1695: ConversionWarning: Some errors were detected !\n",
      "    Line #8 (got 1 columns instead of 192)\n",
      "    Line #14 (got 1 columns instead of 192)\n",
      "  warnings.warn(errmsg, ConversionWarning)\n"
     ]
    }
   ],
   "source": [
    "import os\n",
    "import numpy as np\n",
    "\n",
    "data_file = os.path.join(current_path, \"./data/training_data.txt\")\n",
    "ignore_column = 1\n",
    "header = []\n",
    "data = None\n",
    "\n",
    "with open(data_file, \"rb\") as f:\n",
    "    header = f.readline().decode(\"utf-8\").split()\n",
    "    data = np.genfromtxt(f, invalid_raise=False, usecols=range(ignore_column, len(header)))\n",
    "    \n",
    "X = data[:, 1:]\n",
    "y = data[:, 0]\n",
    "header = header[(ignore_column + 1):] # ignore column + y column\n",
    "\n",
    "print(header)\n",
    "print(X.shape)\n",
    "print(y.shape)\n"
   ]
  },
  {
   "cell_type": "markdown",
   "metadata": {},
   "source": [
    "## Create the Model"
   ]
  },
  {
   "cell_type": "markdown",
   "metadata": {},
   "source": [
    "今回扱うのは画像の分類問題になります。そこで、分類問題でよく使われるSupport Vector Machineを利用します。  \n",
    "特徴量の数が多いため、有効なものに限って使用します。"
   ]
  },
  {
   "cell_type": "code",
   "execution_count": 10,
   "metadata": {
    "collapsed": false
   },
   "outputs": [
    {
     "name": "stdout",
     "output_type": "stream",
     "text": [
      "[('plant', 8.935300536178568), ('flower', 6.0384016976939439), ('blossom', 2.5354977336732385), ('tree', 2.4851731841401596), ('coat_rack', 2.4139941690962101), ('cone', 2.4139941690962101), ('fountain', 2.4139941690962101), ('lighting', 2.4139941690962101), ('sky', 2.4139941690962101), ('sea', 2.4139941690962097), ('sunset', 2.4139941690962097), ('bulb', 2.4139941690962092), ('food', 1.8761871130417345), ('table', 1.8658252169069671), ('night', 1.771587036848467), ('vehicle', 1.6630071299478522), ('outdoors', 1.4693796073922025), ('ball', 1.4396028681742967), ('balloon', 1.4396028681742965), ('hang_out', 1.4318165684838651)]\n"
     ]
    }
   ],
   "source": [
    "from sklearn.feature_selection import SelectKBest\n",
    "from sklearn.feature_selection import f_classif\n",
    "\n",
    "feature_count = 20\n",
    "get_headers = lambda s: [i_h[1] for i_h in enumerate(header) if s[i_h[0]]]\n",
    "\n",
    "selector = SelectKBest(f_classif, k=feature_count).fit(X, y)\n",
    "selected = selector.get_support()\n",
    "kbests = sorted(zip(get_headers(selected), selector.scores_[selected]), key=lambda h_s: h_s[1], reverse=True)\n",
    "print(kbests)"
   ]
  },
  {
   "cell_type": "markdown",
   "metadata": {},
   "source": [
    "## Training the Model"
   ]
  },
  {
   "cell_type": "markdown",
   "metadata": {},
   "source": [
    "データとモデルがそろったため、学習させてみます。  \n",
    "パラメーターはGrid Searchで探索します。"
   ]
  },
  {
   "cell_type": "code",
   "execution_count": 12,
   "metadata": {
    "collapsed": false
   },
   "outputs": [
    {
     "name": "stdout",
     "output_type": "stream",
     "text": [
      "0.255 (+/-0.013) for {'kernel': 'linear', 'C': 100}\n",
      "0.222 (+/-0.011) for {'kernel': 'linear', 'C': 10}\n",
      "0.140 (+/-0.006) for {'kernel': 'linear', 'C': 1}\n",
      "             precision    recall  f1-score   support\n",
      "\n",
      "        0.0       0.00      0.00      0.00         5\n",
      "        1.0       0.26      1.00      0.41         6\n",
      "        2.0       0.00      0.00      0.00         3\n",
      "        3.0       0.00      0.00      0.00         3\n",
      "        4.0       0.00      0.00      0.00         3\n",
      "        5.0       0.00      0.00      0.00         1\n",
      "        6.0       0.00      0.00      0.00         3\n",
      "        7.0       0.00      0.00      0.00         1\n",
      "\n",
      "avg / total       0.06      0.24      0.10        25\n",
      "\n"
     ]
    },
    {
     "name": "stderr",
     "output_type": "stream",
     "text": [
      "D:\\Develop\\env\\Python\\Miniconda3\\envs\\onpasha\\lib\\site-packages\\sklearn\\metrics\\classification.py:676: DeprecationWarning: The default `weighted` averaging is deprecated, and from version 0.18, use of precision, recall or F-score with multiclass or multilabel data or pos_label=None will result in an exception. Please set an explicit value for `average`, one of (None, 'micro', 'macro', 'weighted', 'samples'). In cross validation use, for instance, scoring=\"f1_weighted\" instead of scoring=\"f1\".\n",
      "  sample_weight=sample_weight)\n",
      "D:\\Develop\\env\\Python\\Miniconda3\\envs\\onpasha\\lib\\site-packages\\sklearn\\metrics\\classification.py:958: UndefinedMetricWarning: F-score is ill-defined and being set to 0.0 in labels with no predicted samples.\n",
      "  'precision', 'predicted', average, warn_for)\n",
      "D:\\Develop\\env\\Python\\Miniconda3\\envs\\onpasha\\lib\\site-packages\\sklearn\\metrics\\classification.py:676: DeprecationWarning: The default `weighted` averaging is deprecated, and from version 0.18, use of precision, recall or F-score with multiclass or multilabel data or pos_label=None will result in an exception. Please set an explicit value for `average`, one of (None, 'micro', 'macro', 'weighted', 'samples'). In cross validation use, for instance, scoring=\"f1_weighted\" instead of scoring=\"f1\".\n",
      "  sample_weight=sample_weight)\n",
      "D:\\Develop\\env\\Python\\Miniconda3\\envs\\onpasha\\lib\\site-packages\\sklearn\\metrics\\classification.py:958: UndefinedMetricWarning: F-score is ill-defined and being set to 0.0 in labels with no predicted samples.\n",
      "  'precision', 'predicted', average, warn_for)\n",
      "D:\\Develop\\env\\Python\\Miniconda3\\envs\\onpasha\\lib\\site-packages\\sklearn\\metrics\\classification.py:676: DeprecationWarning: The default `weighted` averaging is deprecated, and from version 0.18, use of precision, recall or F-score with multiclass or multilabel data or pos_label=None will result in an exception. Please set an explicit value for `average`, one of (None, 'micro', 'macro', 'weighted', 'samples'). In cross validation use, for instance, scoring=\"f1_weighted\" instead of scoring=\"f1\".\n",
      "  sample_weight=sample_weight)\n",
      "D:\\Develop\\env\\Python\\Miniconda3\\envs\\onpasha\\lib\\site-packages\\sklearn\\metrics\\classification.py:958: UndefinedMetricWarning: F-score is ill-defined and being set to 0.0 in labels with no predicted samples.\n",
      "  'precision', 'predicted', average, warn_for)\n",
      "D:\\Develop\\env\\Python\\Miniconda3\\envs\\onpasha\\lib\\site-packages\\sklearn\\metrics\\classification.py:676: DeprecationWarning: The default `weighted` averaging is deprecated, and from version 0.18, use of precision, recall or F-score with multiclass or multilabel data or pos_label=None will result in an exception. Please set an explicit value for `average`, one of (None, 'micro', 'macro', 'weighted', 'samples'). In cross validation use, for instance, scoring=\"f1_weighted\" instead of scoring=\"f1\".\n",
      "  sample_weight=sample_weight)\n",
      "D:\\Develop\\env\\Python\\Miniconda3\\envs\\onpasha\\lib\\site-packages\\sklearn\\metrics\\classification.py:958: UndefinedMetricWarning: F-score is ill-defined and being set to 0.0 in labels with no predicted samples.\n",
      "  'precision', 'predicted', average, warn_for)\n",
      "D:\\Develop\\env\\Python\\Miniconda3\\envs\\onpasha\\lib\\site-packages\\sklearn\\metrics\\classification.py:676: DeprecationWarning: The default `weighted` averaging is deprecated, and from version 0.18, use of precision, recall or F-score with multiclass or multilabel data or pos_label=None will result in an exception. Please set an explicit value for `average`, one of (None, 'micro', 'macro', 'weighted', 'samples'). In cross validation use, for instance, scoring=\"f1_weighted\" instead of scoring=\"f1\".\n",
      "  sample_weight=sample_weight)\n",
      "D:\\Develop\\env\\Python\\Miniconda3\\envs\\onpasha\\lib\\site-packages\\sklearn\\metrics\\classification.py:958: UndefinedMetricWarning: F-score is ill-defined and being set to 0.0 in labels with no predicted samples.\n",
      "  'precision', 'predicted', average, warn_for)\n",
      "D:\\Develop\\env\\Python\\Miniconda3\\envs\\onpasha\\lib\\site-packages\\sklearn\\metrics\\classification.py:676: DeprecationWarning: The default `weighted` averaging is deprecated, and from version 0.18, use of precision, recall or F-score with multiclass or multilabel data or pos_label=None will result in an exception. Please set an explicit value for `average`, one of (None, 'micro', 'macro', 'weighted', 'samples'). In cross validation use, for instance, scoring=\"f1_weighted\" instead of scoring=\"f1\".\n",
      "  sample_weight=sample_weight)\n",
      "D:\\Develop\\env\\Python\\Miniconda3\\envs\\onpasha\\lib\\site-packages\\sklearn\\metrics\\classification.py:958: UndefinedMetricWarning: F-score is ill-defined and being set to 0.0 in labels with no predicted samples.\n",
      "  'precision', 'predicted', average, warn_for)\n",
      "D:\\Develop\\env\\Python\\Miniconda3\\envs\\onpasha\\lib\\site-packages\\sklearn\\metrics\\classification.py:958: UndefinedMetricWarning: Precision and F-score are ill-defined and being set to 0.0 in labels with no predicted samples.\n",
      "  'precision', 'predicted', average, warn_for)\n"
     ]
    }
   ],
   "source": [
    "from sklearn.cross_validation import train_test_split\n",
    "from sklearn.grid_search import GridSearchCV\n",
    "from sklearn.metrics import classification_report\n",
    "from sklearn.externals import joblib\n",
    "from sklearn import svm\n",
    "\n",
    "X_c = X[:, selected]\n",
    "\n",
    "x_train, x_test, y_train, y_test = train_test_split(X_c, y, test_size=0.25, random_state=42)\n",
    "\n",
    "candidates = [{'kernel': ['linear'], 'C': [1, 10, 100]}]\n",
    "\n",
    "clf = GridSearchCV(svm.SVC(C=1), candidates, cv=2, scoring=\"f1\")\n",
    "clf.fit(x_train, y_train)\n",
    "\n",
    "for params, mean_score, scores in sorted(clf.grid_scores_, key=lambda s: s[1], reverse=True):\n",
    "    print(\"%0.3f (+/-%0.03f) for %r\" % (mean_score, scores.std() / 2, params))\n",
    "\n",
    "columns = get_headers(selected)\n",
    "model = clf.best_estimator_\n",
    "\n",
    "y_predict = model.predict(x_test)\n",
    "print(classification_report(y_test, y_predict))\n"
   ]
  },
  {
   "cell_type": "markdown",
   "metadata": {},
   "source": [
    "## Store the Model"
   ]
  },
  {
   "cell_type": "markdown",
   "metadata": {},
   "source": [
    "最後に、学習させたモデルを保存します。アプリケーション側で、その結果を確認してみてください。"
   ]
  },
  {
   "cell_type": "code",
   "execution_count": 14,
   "metadata": {
    "collapsed": false
   },
   "outputs": [
    {
     "name": "stdout",
     "output_type": "stream",
     "text": [
      "['ball', 'balloon', 'blossom', 'bulb', 'coat_rack', 'cone', 'flower', 'food', 'fountain', 'hang_out', 'lighting', 'night', 'outdoors', 'plant', 'sea', 'sky', 'sunset', 'table', 'tree', 'vehicle']\n"
     ]
    },
    {
     "data": {
      "text/plain": [
       "['./machine.pkl',\n",
       " './machine.pkl_01.npy',\n",
       " './machine.pkl_02.npy',\n",
       " './machine.pkl_03.npy',\n",
       " './machine.pkl_04.npy',\n",
       " './machine.pkl_05.npy',\n",
       " './machine.pkl_06.npy',\n",
       " './machine.pkl_07.npy',\n",
       " './machine.pkl_08.npy',\n",
       " './machine.pkl_09.npy',\n",
       " './machine.pkl_10.npy',\n",
       " './machine.pkl_11.npy']"
      ]
     },
     "execution_count": 14,
     "metadata": {},
     "output_type": "execute_result"
    }
   ],
   "source": [
    "from sklearn.externals import joblib\n",
    "\n",
    "print(columns)\n",
    "joblib.dump(model, \"./machine.pkl\") \n"
   ]
  },
  {
   "cell_type": "code",
   "execution_count": null,
   "metadata": {
    "collapsed": true
   },
   "outputs": [],
   "source": []
  }
 ],
 "metadata": {
  "kernelspec": {
   "display_name": "Python 3",
   "language": "python",
   "name": "python3"
  },
  "language_info": {
   "codemirror_mode": {
    "name": "ipython",
    "version": 3
   },
   "file_extension": ".py",
   "mimetype": "text/x-python",
   "name": "python",
   "nbconvert_exporter": "python",
   "pygments_lexer": "ipython3",
   "version": "3.4.3"
  }
 },
 "nbformat": 4,
 "nbformat_minor": 0
}
