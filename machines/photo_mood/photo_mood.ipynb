{
 "cells": [
  {
   "cell_type": "markdown",
   "metadata": {},
   "source": [
    "# Photo to Mood\n",
    "\n",
    "画像データについて、GracenoteのどのMoodに相当するかを判断するModelを作成します\n"
   ]
  },
  {
   "cell_type": "code",
   "execution_count": 1,
   "metadata": {
    "collapsed": false
   },
   "outputs": [],
   "source": [
    "# グラフが文章中に表示されるようにするおまじない\n",
    "%matplotlib inline\n",
    "\n",
    "# autoreload module\n",
    "%load_ext autoreload\n",
    "%autoreload 2\n",
    "\n",
    "# load local package\n",
    "import sys\n",
    "import os\n",
    "current_path = os.getcwd()\n",
    "sys.path.append(os.path.join(current_path, \"../../\"))  # load project root\n"
   ]
  },
  {
   "cell_type": "markdown",
   "metadata": {},
   "source": [
    "## Load the Data"
   ]
  },
  {
   "cell_type": "markdown",
   "metadata": {},
   "source": [
    "image_url、moodを左端に設定したファイルから学習データを読み込みます。\n",
    "なお、今回値はRekognitionのスコアであり、全項目同じ範囲の値のため正規化は行いません。"
   ]
  },
  {
   "cell_type": "code",
   "execution_count": 2,
   "metadata": {
    "collapsed": false
   },
   "outputs": [
    {
     "name": "stdout",
     "output_type": "stream",
     "text": [
      "['Air Sport', 'Air Vehicle', 'Animal', 'Animal Sport', 'Animal Tending', 'Archery', 'Arthropod', 'Baby', 'Ballooning', 'Bike', 'Bird', 'Black', 'Blue', 'Boat', 'Boating', 'Boxing', 'Brown', 'Burning', 'Celebration', 'Climbing', 'Club Sport', 'Combat Sport', 'Croquet', 'Cyan', 'Dog', 'Drill', 'Escalator', 'Explosion', 'Fabric', 'Face', 'Field', 'Flower', 'Flower Scene', 'Food', 'Football', 'Forest', 'Girl', 'Graduation', 'Graphics', 'Gray', 'Green', 'Group of People', 'Hands', 'Head and Shoulders', 'Hot Air Balloon', 'Human', 'Indoors', 'Insect', 'Invertebrate', 'Land Vehicle', 'Landmark', 'Long Jump', 'Mammal', 'Man Made Scene', 'Meat Eater', 'Mixed Color', 'Natural Activity', 'Nature Scene', 'Object', 'Orchard', 'Outdoors', 'Parkour', 'People Activity', 'People View', 'Person', 'Person View', 'Placental Mammal', 'Pole Vault', 'Reptile', 'Rice', 'Room', 'Sailboat', 'Sailing', 'Scene', 'Scuba', 'Ship', 'Shoes', 'Shot Put', 'Skateboarding', 'Skiing', 'Snooker', 'Snow Sport', 'Spelunking', 'Sports', 'Sports Activity', 'Surf Casting', 'Surface Water Sport', 'Surfboard', 'Team Field Sport', 'Team Sport', 'Track and Field', 'Urban Structure', 'Vehicle', 'Vertebrate', 'Village', 'Water Scene', 'Water Sport', 'Water Vehicle', 'Wedding', 'White', 'Whitehouse', 'Wild Fire', 'Winter Scene', 'Winter Sport', 'Yellow', 'Zoo']\n",
      "(39,)\n",
      "(39, 106)\n"
     ]
    }
   ],
   "source": [
    "def read_data(path, ignore_columns):\n",
    "    import os\n",
    "    import numpy as np\n",
    "\n",
    "    header = []\n",
    "    y = None\n",
    "    X = None\n",
    "    \n",
    "    # read data part\n",
    "    with open(data_file, \"rb\") as f:\n",
    "        header = f.readline().decode(\"utf-8\").replace(\"\\r\", \"\").replace(\"\\n\", \"\").split(\"\\t\")\n",
    "        columns = [c for c in range(len(header)) if c not in ignore_columns]\n",
    "        header = [h for i, h in enumerate(header) if i not in [0] + ignore_columns]\n",
    "        data = np.genfromtxt(f, invalid_raise=False, usecols=columns)        \n",
    "        y = data[:, 0]\n",
    "        X = data[:, 1:]\n",
    "    \n",
    "    return header, y, X\n",
    "\n",
    "data_file = os.path.join(current_path, \"../../data/photo_to_mood.txt\")\n",
    "header, moods, labels = read_data(data_file, [1])\n",
    "\n",
    "print(header)\n",
    "print(moods.shape)\n",
    "print(labels.shape)\n"
   ]
  },
  {
   "cell_type": "markdown",
   "metadata": {},
   "source": [
    "## Create the Model"
   ]
  },
  {
   "cell_type": "markdown",
   "metadata": {},
   "source": [
    "今回扱うのは画像の分類問題になります。そこで、分類問題でよく使われるSupport Vector Machineを利用します。  \n",
    "特徴量の数が多いため、有効なものに限って使用します。"
   ]
  },
  {
   "cell_type": "code",
   "execution_count": 3,
   "metadata": {
    "collapsed": false
   },
   "outputs": [
    {
     "name": "stdout",
     "output_type": "stream",
     "text": [
      "[('People Activity', 4.3214484180914772), ('Vertebrate', 4.0271861127495239), ('Man Made Scene', 3.7372071779276408), ('Invertebrate', 3.7069930848274142), ('Insect', 3.7011581869709165), ('Placental Mammal', 3.49674539734167), ('Outdoors', 3.4732509537584231), ('Boat', 3.4000764811821109), ('Human', 3.376279867097784), ('Mammal', 3.1989521198018531)]\n",
      "[62, 93, 53, 48, 47, 66, 60, 13, 45, 52]\n"
     ]
    }
   ],
   "source": [
    "def select_features(feature_count, X, y, header):\n",
    "    from sklearn.feature_selection import SelectKBest\n",
    "    from sklearn.feature_selection import f_classif\n",
    "\n",
    "    selector = SelectKBest(f_classif, k=feature_count).fit(X, y)\n",
    "    selected = selector.get_support()\n",
    "    get_headers = lambda s: [i_h[1] for i_h in enumerate(header) if s[i_h[0]]]\n",
    "    kbests = sorted(zip(get_headers(selected), selector.scores_[selected]), key=lambda h_s: h_s[1], reverse=True)\n",
    "    \n",
    "    return kbests\n",
    "\n",
    "scores = select_features(10, labels, moods, header)\n",
    "selected_features = [header.index(s[0]) for s in scores]\n",
    "print(scores)\n",
    "print(selected_features)"
   ]
  },
  {
   "cell_type": "markdown",
   "metadata": {},
   "source": [
    "## Training the Model"
   ]
  },
  {
   "cell_type": "markdown",
   "metadata": {},
   "source": [
    "データとモデルがそろったため、学習させてみます。  \n",
    "パラメーターはGrid Searchで探索します。"
   ]
  },
  {
   "cell_type": "code",
   "execution_count": 6,
   "metadata": {
    "collapsed": false
   },
   "outputs": [
    {
     "name": "stdout",
     "output_type": "stream",
     "text": [
      "0.584 (+/-0.016) for {'C': 1, 'kernel': 'linear'}\n",
      "0.567 (+/-0.001) for {'C': 10, 'kernel': 'linear'}\n",
      "0.567 (+/-0.001) for {'C': 100, 'kernel': 'linear'}\n",
      "             precision    recall  f1-score   support\n",
      "\n",
      "        0.0       0.33      1.00      0.50         2\n",
      "        1.0       0.00      0.00      0.00         1\n",
      "        2.0       0.50      0.50      0.50         2\n",
      "        3.0       0.00      0.00      0.00         3\n",
      "\n",
      "avg / total       0.21      0.38      0.25         8\n",
      "\n",
      "SVC(C=1, cache_size=200, class_weight=None, coef0=0.0, degree=3, gamma=0.0,\n",
      "  kernel='linear', max_iter=-1, probability=False, random_state=None,\n",
      "  shrinking=True, tol=0.001, verbose=False)\n"
     ]
    },
    {
     "name": "stderr",
     "output_type": "stream",
     "text": [
      "D:\\Develop\\env\\Python\\Miniconda3\\envs\\onpasha\\lib\\site-packages\\sklearn\\metrics\\classification.py:958: UndefinedMetricWarning: Precision and F-score are ill-defined and being set to 0.0 in labels with no predicted samples.\n",
      "  'precision', 'predicted', average, warn_for)\n"
     ]
    }
   ],
   "source": [
    "def create_model(X, y, selected=()):\n",
    "\n",
    "    from sklearn.cross_validation import train_test_split\n",
    "    from sklearn.grid_search import GridSearchCV\n",
    "    from sklearn.metrics import classification_report\n",
    "    from sklearn import svm\n",
    "    \n",
    "    X_c = X if len(selected) == 0 else X[:, selected]\n",
    "\n",
    "    x_train, x_test, y_train, y_test = train_test_split(X_c, y, test_size=0.2, random_state=42)\n",
    "    candidates = [{'kernel': ['linear'], 'C': [1, 10, 100]}]\n",
    "\n",
    "    clf = GridSearchCV(svm.SVC(C=1), candidates, cv=2, scoring=\"f1_weighted\")\n",
    "    clf.fit(x_train, y_train)\n",
    "\n",
    "    for params, mean_score, scores in sorted(clf.grid_scores_, key=lambda s: s[1], reverse=True):\n",
    "        print(\"%0.3f (+/-%0.03f) for %r\" % (mean_score, scores.std() / 2, params))\n",
    "\n",
    "    model = clf.best_estimator_\n",
    "    y_predict = model.predict(x_test)\n",
    "    print(classification_report(y_test, y_predict))\n",
    "    return model\n",
    "\n",
    "model = create_model(labels, moods, selected_features)\n",
    "print(model)"
   ]
  },
  {
   "cell_type": "markdown",
   "metadata": {},
   "source": [
    "## Store the Model"
   ]
  },
  {
   "cell_type": "markdown",
   "metadata": {},
   "source": [
    "最後に、学習させたモデルを保存します。アプリケーション側で、その結果を確認してみてください。"
   ]
  },
  {
   "cell_type": "code",
   "execution_count": 7,
   "metadata": {
    "collapsed": false
   },
   "outputs": [
    {
     "name": "stdout",
     "output_type": "stream",
     "text": [
      "['Boat', 'Human', 'Insect', 'Invertebrate', 'Mammal', 'Man Made Scene', 'Outdoors', 'People Activity', 'Placental Mammal', 'Vertebrate']\n"
     ]
    }
   ],
   "source": [
    "def save(model):\n",
    "    from sklearn.externals import joblib\n",
    "    joblib.dump(model, \"./machine.pkl\") \n",
    "\n",
    "print([header[s] for s in sorted(selected_features)])\n",
    "save(model)"
   ]
  },
  {
   "cell_type": "code",
   "execution_count": null,
   "metadata": {
    "collapsed": true
   },
   "outputs": [],
   "source": []
  }
 ],
 "metadata": {
  "kernelspec": {
   "display_name": "Python 3",
   "language": "python",
   "name": "python3"
  },
  "language_info": {
   "codemirror_mode": {
    "name": "ipython",
    "version": 3
   },
   "file_extension": ".py",
   "mimetype": "text/x-python",
   "name": "python",
   "nbconvert_exporter": "python",
   "pygments_lexer": "ipython3",
   "version": "3.4.3"
  }
 },
 "nbformat": 4,
 "nbformat_minor": 0
}
